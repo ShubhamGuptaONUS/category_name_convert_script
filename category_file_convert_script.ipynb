{
 "cells": [
  {
   "cell_type": "code",
   "execution_count": null,
   "id": "4cda9db0-7530-41ea-adcd-acc249d6552c",
   "metadata": {},
   "outputs": [],
   "source": [
    "import pandas as pd\n",
    "\n",
    "# Sample DataFrame\n",
    "\n",
    "df = pd.read_excel('/content/variant_after_catagory(01)addExplde.xlsx',dtype=str)\n",
    "\n",
    "# Split the values in each row by comma and find unique values row-wise\n",
    "df[\"unique_row_values\"] = df[\"v_category\"].apply(lambda x: list(set(x.split(','))))\n",
    "\n",
    "# Combine all rows into a single list to find unique values across the entire column\n",
    "unique_values = set()\n",
    "df[\"unique_row_values\"].apply(lambda x: unique_values.update(x))\n",
    "\n",
    "# Convert the set of unique values to a list and create a new DataFrame\n",
    "unique_category_df = pd.DataFrame(sorted(list(unique_values)), columns=[\"unique_category\"])\n",
    "\n",
    "# Display the new DataFrame\n",
    "print(unique_category_df)\n"
   ]
  },
  {
   "cell_type": "code",
   "execution_count": null,
   "id": "5e30fc83-beb1-4ff6-bf40-06095ed0d472",
   "metadata": {},
   "outputs": [],
   "source": []
  },
  {
   "cell_type": "code",
   "execution_count": null,
   "id": "4ab1ac16-8c90-4985-b862-6410f4b7627c",
   "metadata": {},
   "outputs": [],
   "source": [
    "import pandas as pd\n",
    "\n",
    "# Sample DataFrame\n",
    "\n",
    "df = pd.read_excel('/content/Main Products RK10 Latest .xlsx',dtype=str)\n",
    "\n",
    "# Split the values in each row by comma and find unique values row-wise\n",
    "df[\"unique_row_values\"] = df[\"category_name\"].apply(lambda x: list(set(x.split(','))))\n",
    "\n",
    "# Combine all rows into a single list to find unique values across the entire column\n",
    "unique_values = set()\n",
    "df[\"unique_row_values\"].apply(lambda x: unique_values.update(x))\n",
    "\n",
    "# Convert the set of unique values to a list and create a new DataFrame\n",
    "unique_category_df2 = pd.DataFrame(sorted(list(unique_values)), columns=[\"unique_category\"])\n",
    "\n",
    "# Display the new DataFrame\n",
    "print(unique_category_df2)\n"
   ]
  },
  {
   "cell_type": "code",
   "execution_count": null,
   "id": "79400575-f073-4f93-b6e1-6bf6361f255a",
   "metadata": {},
   "outputs": [],
   "source": []
  },
  {
   "cell_type": "code",
   "execution_count": null,
   "id": "a34f83c3-3719-427d-a375-2aad4d3e85d3",
   "metadata": {},
   "outputs": [],
   "source": [
    "unique_category_df.shape\n",
    "unique_category_df2.shape"
   ]
  },
  {
   "cell_type": "code",
   "execution_count": null,
   "id": "72a2a1c7-e213-44de-bcd9-5a77a78589a8",
   "metadata": {},
   "outputs": [],
   "source": [
    "merged_df = pd.concat([unique_category_df, unique_category_df2]).drop_duplicates().reset_index(drop=True)\n",
    "merged_df.shape"
   ]
  },
  {
   "cell_type": "code",
   "execution_count": null,
   "id": "ba93bde9-4f5c-4d44-91a7-0aabd85ccfa8",
   "metadata": {},
   "outputs": [],
   "source": [
    "merged_df.to_excel('category_name_rk10.xlsx',index=False)"
   ]
  },
  {
   "cell_type": "code",
   "execution_count": null,
   "id": "749eb5fb-2ff5-4a59-a835-b2aeaff5e96e",
   "metadata": {},
   "outputs": [],
   "source": []
  },
  {
   "cell_type": "code",
   "execution_count": null,
   "id": "f779f621-adf8-42c4-83b1-4d34d40541e2",
   "metadata": {},
   "outputs": [],
   "source": []
  },
  {
   "cell_type": "code",
   "execution_count": null,
   "id": "a15cc9f8-2897-4692-9cf6-652a72d349e5",
   "metadata": {},
   "outputs": [],
   "source": []
  },
  {
   "cell_type": "code",
   "execution_count": null,
   "id": "5eccbaec-4327-450f-b9ec-a913d5d45cf8",
   "metadata": {},
   "outputs": [],
   "source": []
  },
  {
   "cell_type": "code",
   "execution_count": null,
   "id": "9b9dff50-b128-4686-a63d-6cf809c5dfc4",
   "metadata": {},
   "outputs": [],
   "source": []
  },
  {
   "cell_type": "code",
   "execution_count": null,
   "id": "da75ecf8-478b-4d59-9848-6be4dfb333e4",
   "metadata": {},
   "outputs": [],
   "source": []
  }
 ],
 "metadata": {
  "kernelspec": {
   "display_name": "Python 3 (ipykernel)",
   "language": "python",
   "name": "python3"
  },
  "language_info": {
   "codemirror_mode": {
    "name": "ipython",
    "version": 3
   },
   "file_extension": ".py",
   "mimetype": "text/x-python",
   "name": "python",
   "nbconvert_exporter": "python",
   "pygments_lexer": "ipython3",
   "version": "3.8.10"
  }
 },
 "nbformat": 4,
 "nbformat_minor": 5
}
